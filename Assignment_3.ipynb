{
  "nbformat": 4,
  "nbformat_minor": 0,
  "metadata": {
    "colab": {
      "provenance": [],
      "toc_visible": true,
      "authorship_tag": "ABX9TyPJqc1kmQjLAQPwHE7cU/7m",
      "include_colab_link": true
    },
    "kernelspec": {
      "name": "python3",
      "display_name": "Python 3"
    },
    "language_info": {
      "name": "python"
    }
  },
  "cells": [
    {
      "cell_type": "markdown",
      "metadata": {
        "id": "view-in-github",
        "colab_type": "text"
      },
      "source": [
        "<a href=\"https://colab.research.google.com/github/jacopomanenti01/Graph-Neural-Networks/blob/main/Assignment_3.ipynb\" target=\"_parent\"><img src=\"https://colab.research.google.com/assets/colab-badge.svg\" alt=\"Open In Colab\"/></a>"
      ]
    },
    {
      "cell_type": "markdown",
      "source": [
        "# Task Overview"
      ],
      "metadata": {
        "id": "D3javQSh-wRi"
      }
    },
    {
      "cell_type": "markdown",
      "source": [
        "1 link prediction 1 link classification\n",
        "\n",
        "\n",
        "✅ Dataset Selection\n",
        "- [x] ✅Choose 1 dataset for edge-level prediction\n",
        "- [x] ✅Justify your choice, highlighting its relevance and challenges.\n",
        "\n",
        "🔪 Dataset Splitting\n",
        "  - [x] ✅Apply different splitting strategies using fixed random seeds for reproducibility.\n",
        "  - [x]  ✅set seed\n",
        "  - [x]  ✅ Cora\n",
        "\n",
        "🔪Use the following edge-splitting strategies:\n",
        "  - [x] ✅Inductive link prediction split (unseen edges during training) (pick the correct data for such case)\n",
        "  - [x] ✅Transductive link prediction split (edges within a fixed graph) (pick the correct data for such case)\n",
        "  - [x] ✅Employ an 80%/20%/20% split for training, validation, and testing.\n",
        "  - [x] ✅Compare the impact of these methods on performance.\n",
        "\n",
        "✅GNN Implementation:\n",
        "Implement a customized GNN using PyG’s MessagePassing module\n",
        "  - [x] ✅The Graph Isomorphism Network (GIN) layer with skip connections and layer normalization.\n",
        "  - [x] ✅An MLP-based message-passing mechanis for message passing.\n",
        "\n",
        "🔗Edge-Level Tasks:\n",
        "\n",
        "  - [x] ✅Conduct tasks like edge weight prediction, link prediction, and edge classification.\n",
        "  - [ ] ✅Analyze performance across tasks and splitting strategie\n",
        "\n",
        "\n"
      ],
      "metadata": {
        "id": "q9MBs-_F-1O8"
      }
    },
    {
      "cell_type": "markdown",
      "source": [
        "# Dependecies"
      ],
      "metadata": {
        "id": "0wwWzoNnAaDL"
      }
    },
    {
      "cell_type": "code",
      "source": [
        "!pip install torch torchvision torchaudio torch-geometric\n",
        "!pip install --upgrade scipy networkx\n",
        "\n",
        "import pandas as pd\n",
        "import matplotlib as mpt\n",
        "import matplotlib.pyplot as plt\n",
        "import numpy as np\n",
        "import networkx as nx\n",
        "from tabulate import tabulate\n",
        "import numpy as np\n",
        "\n",
        "import torch_geometric as torch_geometric\n",
        "import torch\n",
        "import torch.nn as nn\n",
        "import torch.nn.functional as F\n",
        "from torch_geometric.datasets import Planetoid\n",
        "from torch_geometric.loader import DataLoader\n",
        "from torch.optim import Adam\n",
        "\n",
        "import seaborn as sns\n",
        "from sklearn.metrics import confusion_matrix, ConfusionMatrixDisplay\n"
      ],
      "metadata": {
        "colab": {
          "base_uri": "https://localhost:8080/"
        },
        "id": "T0lsJ2TvAZQI",
        "outputId": "6db8c1a7-03c6-4dfb-d8e2-2f1bd98adea5"
      },
      "execution_count": null,
      "outputs": [
        {
          "output_type": "stream",
          "name": "stdout",
          "text": [
            "Requirement already satisfied: torch in /usr/local/lib/python3.10/dist-packages (2.5.1+cu121)\n",
            "Requirement already satisfied: torchvision in /usr/local/lib/python3.10/dist-packages (0.20.1+cu121)\n",
            "Requirement already satisfied: torchaudio in /usr/local/lib/python3.10/dist-packages (2.5.1+cu121)\n",
            "Collecting torch-geometric\n",
            "  Downloading torch_geometric-2.6.1-py3-none-any.whl.metadata (63 kB)\n",
            "\u001b[2K     \u001b[90m━━━━━━━━━━━━━━━━━━━━━━━━━━━━━━━━━━━━━━━━\u001b[0m \u001b[32m63.1/63.1 kB\u001b[0m \u001b[31m1.9 MB/s\u001b[0m eta \u001b[36m0:00:00\u001b[0m\n",
            "\u001b[?25hRequirement already satisfied: filelock in /usr/local/lib/python3.10/dist-packages (from torch) (3.16.1)\n",
            "Requirement already satisfied: typing-extensions>=4.8.0 in /usr/local/lib/python3.10/dist-packages (from torch) (4.12.2)\n",
            "Requirement already satisfied: networkx in /usr/local/lib/python3.10/dist-packages (from torch) (3.4.2)\n",
            "Requirement already satisfied: jinja2 in /usr/local/lib/python3.10/dist-packages (from torch) (3.1.4)\n",
            "Requirement already satisfied: fsspec in /usr/local/lib/python3.10/dist-packages (from torch) (2024.10.0)\n",
            "Requirement already satisfied: sympy==1.13.1 in /usr/local/lib/python3.10/dist-packages (from torch) (1.13.1)\n",
            "Requirement already satisfied: mpmath<1.4,>=1.1.0 in /usr/local/lib/python3.10/dist-packages (from sympy==1.13.1->torch) (1.3.0)\n",
            "Requirement already satisfied: numpy in /usr/local/lib/python3.10/dist-packages (from torchvision) (1.26.4)\n",
            "Requirement already satisfied: pillow!=8.3.*,>=5.3.0 in /usr/local/lib/python3.10/dist-packages (from torchvision) (11.0.0)\n",
            "Requirement already satisfied: aiohttp in /usr/local/lib/python3.10/dist-packages (from torch-geometric) (3.11.2)\n",
            "Requirement already satisfied: psutil>=5.8.0 in /usr/local/lib/python3.10/dist-packages (from torch-geometric) (5.9.5)\n",
            "Requirement already satisfied: pyparsing in /usr/local/lib/python3.10/dist-packages (from torch-geometric) (3.2.0)\n",
            "Requirement already satisfied: requests in /usr/local/lib/python3.10/dist-packages (from torch-geometric) (2.32.3)\n",
            "Requirement already satisfied: tqdm in /usr/local/lib/python3.10/dist-packages (from torch-geometric) (4.66.6)\n",
            "Requirement already satisfied: aiohappyeyeballs>=2.3.0 in /usr/local/lib/python3.10/dist-packages (from aiohttp->torch-geometric) (2.4.3)\n",
            "Requirement already satisfied: aiosignal>=1.1.2 in /usr/local/lib/python3.10/dist-packages (from aiohttp->torch-geometric) (1.3.1)\n",
            "Requirement already satisfied: attrs>=17.3.0 in /usr/local/lib/python3.10/dist-packages (from aiohttp->torch-geometric) (24.2.0)\n",
            "Requirement already satisfied: frozenlist>=1.1.1 in /usr/local/lib/python3.10/dist-packages (from aiohttp->torch-geometric) (1.5.0)\n",
            "Requirement already satisfied: multidict<7.0,>=4.5 in /usr/local/lib/python3.10/dist-packages (from aiohttp->torch-geometric) (6.1.0)\n",
            "Requirement already satisfied: propcache>=0.2.0 in /usr/local/lib/python3.10/dist-packages (from aiohttp->torch-geometric) (0.2.0)\n",
            "Requirement already satisfied: yarl<2.0,>=1.17.0 in /usr/local/lib/python3.10/dist-packages (from aiohttp->torch-geometric) (1.17.2)\n",
            "Requirement already satisfied: async-timeout<6.0,>=4.0 in /usr/local/lib/python3.10/dist-packages (from aiohttp->torch-geometric) (4.0.3)\n",
            "Requirement already satisfied: MarkupSafe>=2.0 in /usr/local/lib/python3.10/dist-packages (from jinja2->torch) (3.0.2)\n",
            "Requirement already satisfied: charset-normalizer<4,>=2 in /usr/local/lib/python3.10/dist-packages (from requests->torch-geometric) (3.4.0)\n",
            "Requirement already satisfied: idna<4,>=2.5 in /usr/local/lib/python3.10/dist-packages (from requests->torch-geometric) (3.10)\n",
            "Requirement already satisfied: urllib3<3,>=1.21.1 in /usr/local/lib/python3.10/dist-packages (from requests->torch-geometric) (2.2.3)\n",
            "Requirement already satisfied: certifi>=2017.4.17 in /usr/local/lib/python3.10/dist-packages (from requests->torch-geometric) (2024.8.30)\n",
            "Downloading torch_geometric-2.6.1-py3-none-any.whl (1.1 MB)\n",
            "\u001b[2K   \u001b[90m━━━━━━━━━━━━━━━━━━━━━━━━━━━━━━━━━━━━━━━━\u001b[0m \u001b[32m1.1/1.1 MB\u001b[0m \u001b[31m17.0 MB/s\u001b[0m eta \u001b[36m0:00:00\u001b[0m\n",
            "\u001b[?25hInstalling collected packages: torch-geometric\n",
            "Successfully installed torch-geometric-2.6.1\n",
            "Requirement already satisfied: scipy in /usr/local/lib/python3.10/dist-packages (1.13.1)\n",
            "Collecting scipy\n",
            "  Downloading scipy-1.14.1-cp310-cp310-manylinux_2_17_x86_64.manylinux2014_x86_64.whl.metadata (60 kB)\n",
            "\u001b[2K     \u001b[90m━━━━━━━━━━━━━━━━━━━━━━━━━━━━━━━━━━━━━━━━\u001b[0m \u001b[32m60.8/60.8 kB\u001b[0m \u001b[31m2.7 MB/s\u001b[0m eta \u001b[36m0:00:00\u001b[0m\n",
            "\u001b[?25hRequirement already satisfied: networkx in /usr/local/lib/python3.10/dist-packages (3.4.2)\n",
            "Requirement already satisfied: numpy<2.3,>=1.23.5 in /usr/local/lib/python3.10/dist-packages (from scipy) (1.26.4)\n",
            "Downloading scipy-1.14.1-cp310-cp310-manylinux_2_17_x86_64.manylinux2014_x86_64.whl (41.2 MB)\n",
            "\u001b[2K   \u001b[90m━━━━━━━━━━━━━━━━━━━━━━━━━━━━━━━━━━━━━━━━\u001b[0m \u001b[32m41.2/41.2 MB\u001b[0m \u001b[31m16.7 MB/s\u001b[0m eta \u001b[36m0:00:00\u001b[0m\n",
            "\u001b[?25hInstalling collected packages: scipy\n",
            "  Attempting uninstall: scipy\n",
            "    Found existing installation: scipy 1.13.1\n",
            "    Uninstalling scipy-1.13.1:\n",
            "      Successfully uninstalled scipy-1.13.1\n",
            "\u001b[31mERROR: pip's dependency resolver does not currently take into account all the packages that are installed. This behaviour is the source of the following dependency conflicts.\n",
            "gensim 4.3.3 requires scipy<1.14.0,>=1.7.0, but you have scipy 1.14.1 which is incompatible.\u001b[0m\u001b[31m\n",
            "\u001b[0mSuccessfully installed scipy-1.14.1\n"
          ]
        }
      ]
    },
    {
      "cell_type": "markdown",
      "source": [
        "# Dataset"
      ],
      "metadata": {
        "id": "aTLo89ni-B5L"
      }
    },
    {
      "cell_type": "code",
      "source": [
        "import random\n",
        "\n",
        "def set_seed(seed):\n",
        "    \"\"\"\n",
        "    Fix the random seed for reproducibility.\n",
        "\n",
        "    Parameters:\n",
        "    seed (int): The seed value to use.\n",
        "    \"\"\"\n",
        "    random.seed(seed)  # Python's built-in random module\n",
        "    np.random.seed(seed)  # NumPy\n",
        "    torch.manual_seed(seed)  # PyTorch CPU\n",
        "    torch.cuda.manual_seed(seed)  # PyTorch GPU (for single GPU)\n",
        "    torch.cuda.manual_seed_all(seed)  # PyTorch GPU (for all GPUs)\n",
        "    torch.backends.cudnn.deterministic = True  # Ensure deterministic behavior\n",
        "    torch.backends.cudnn.benchmark = False  # Disable benchmark mode for reproducibility"
      ],
      "metadata": {
        "id": "w9J4QQzxwVXv"
      },
      "execution_count": null,
      "outputs": []
    },
    {
      "cell_type": "code",
      "source": [
        "def  get_negative_samples(data, num_negative_samples):\n",
        "  neg_samples = negative_sampling(\n",
        "      edge_index = data.train_pos_edge_index,\n",
        "      num_nodes = data.num_nodes,\n",
        "      num_neg_samples = num_negative_samples,\n",
        "  )\n",
        "  return neg_samples\n"
      ],
      "metadata": {
        "id": "QyEqbzTFHMdp"
      },
      "execution_count": null,
      "outputs": []
    },
    {
      "cell_type": "code",
      "source": [
        "def  get_negative_edges(egde_index, num_nodes, num_negative_samples):\n",
        "  neg_samples = negative_sampling(\n",
        "      edge_index = egde_index,\n",
        "      num_nodes = num_nodes,\n",
        "      num_neg_samples = num_negative_samples,\n",
        "  )\n",
        "  return neg_samples"
      ],
      "metadata": {
        "id": "Siw6Kgzz9jaP"
      },
      "execution_count": null,
      "outputs": []
    },
    {
      "cell_type": "markdown",
      "source": [
        "## Inductive"
      ],
      "metadata": {
        "id": "O6wM2K18nrkV"
      }
    },
    {
      "cell_type": "code",
      "source": [
        "import torch_geometric.transforms as T\n",
        "from torch_geometric.utils import train_test_split_edges, negative_sampling\n",
        "from torch_geometric.datasets import TUDataset\n",
        "import collections\n",
        "\n",
        "\n",
        "# Set seed\n",
        "set_seed(42)\n",
        "\n",
        "# Set device\n",
        "device = torch.device('cuda' if torch.cuda.is_available() else 'cpu')\n",
        "\n",
        "# Link prediction task\n",
        "dataset1 = 'Cora'\n",
        "path1 = '/tmp/Cora'\n",
        "\n",
        "# set different ratios\n",
        "\n",
        "ratio = [(.20,.20),(.10,.20), (.10,.10), (.20,.10)]\n",
        "\n",
        "# set dict of dataset wit different splittings\n",
        "\n",
        "datasets_splitting = collections.defaultdict(list)\n",
        "\n",
        "# Tranformation\n",
        "\n",
        "for i,(v,t) in enumerate(ratio):\n",
        "\n",
        "  # Transform\n",
        "  transform= T.Compose([\n",
        "      T.ToDevice(device),\n",
        "      T.RandomLinkSplit(num_val=v, num_test=t, is_undirected=True, add_negative_train_samples = False),\n",
        "  ])\n",
        "\n",
        "  train, val, test = Planetoid(path1,dataset1, transform= transform)[0]\n",
        "\n",
        "  train.train_mask = train.val_mask = train.test_mask = train.y = None\n",
        "  val.train_mask = val.val_mask = val.test_mask = val.y = None\n",
        "  test.train_mask = test.val_mask = test.test_mask = test.y = None\n",
        "  datasets_splitting[i].append(train)\n",
        "  datasets_splitting[i].append(val)\n",
        "  datasets_splitting[i].append(test)\n"
      ],
      "metadata": {
        "id": "uVC8V5Z7An4i"
      },
      "execution_count": null,
      "outputs": []
    },
    {
      "cell_type": "code",
      "source": [
        "cora_train, cora_val, cora_test = datasets_splitting[0]\n",
        "print(f'\\nNumber of edges in original dataset: {Planetoid(path1,dataset1)[0]} Dataset')\n",
        "print(f'\\nNumber of edges in trainset: {cora_train} Dataset')\n",
        "print(f'\\nNumber of edges in validation set: {cora_val} Dataset')\n",
        "print(f'\\nNumber of edges in test set: {cora_test} Dataset')"
      ],
      "metadata": {
        "colab": {
          "base_uri": "https://localhost:8080/"
        },
        "id": "0w0Fu1GnQxBt",
        "outputId": "7d556dfe-83fb-4e9c-81b9-dc0751566752"
      },
      "execution_count": null,
      "outputs": [
        {
          "output_type": "stream",
          "name": "stdout",
          "text": [
            "\n",
            "Number of edges in original dataset: Data(x=[2708, 1433], edge_index=[2, 10556], y=[2708], train_mask=[2708], val_mask=[2708], test_mask=[2708]) Dataset\n",
            "\n",
            "Number of edges in trainset: Data(x=[2708, 1433], edge_index=[2, 6336], edge_label=[3168], edge_label_index=[2, 3168]) Dataset\n",
            "\n",
            "Number of edges in validation set: Data(x=[2708, 1433], edge_index=[2, 6336], edge_label=[2110], edge_label_index=[2, 2110]) Dataset\n",
            "\n",
            "Number of edges in test set: Data(x=[2708, 1433], edge_index=[2, 8446], edge_label=[2110], edge_label_index=[2, 2110]) Dataset\n"
          ]
        }
      ]
    },
    {
      "cell_type": "code",
      "source": [
        "G = nx.Graph()\n",
        "G.add_nodes_from(range(Planetoid(path1,dataset1)[0].num_nodes))  # Use node indices\n",
        "\n",
        "#Generate positions for all nodes\n",
        "pos = nx.spring_layout(G)"
      ],
      "metadata": {
        "id": "qh33OkkjRbK1"
      },
      "execution_count": null,
      "outputs": []
    },
    {
      "cell_type": "code",
      "source": [
        "import random\n",
        "import matplotlib.pyplot as plt\n",
        "\n",
        "# Select a subset of nodes to plot to create a subset\n",
        "num_nodes_to_plot = 100\n",
        "selected_nodes = random.sample(list(G.nodes), num_nodes_to_plot)\n",
        "\n",
        "# Create a subgraph\n",
        "subgraph = G.subgraph(selected_nodes)\n",
        "sub_pos = {node: pos[node] for node in selected_nodes}  # Filter positions\n",
        "\n",
        "# Filter train and test edges\n",
        "train_list_subset = [\n",
        "    edge for edge in cora_train if edge[0] in selected_nodes and edge[1] in selected_nodes\n",
        "]\n",
        "test_list_subset = [\n",
        "    edge for edge in cora_test if edge[0] in selected_nodes and edge[1] in selected_nodes\n",
        "]\n",
        "\n",
        "\n",
        "# Plot the subgraph\n",
        "plt.figure(figsize=(8, 6))\n",
        "\n",
        "# Plot nodes\n",
        "nx.draw_networkx_nodes(subgraph, sub_pos, node_size=100, node_color=\"gray\")\n",
        "\n",
        "# Plot train edges\n",
        "nx.draw_networkx_edges(subgraph, sub_pos, edgelist=train_list_subset, edge_color=\"blue\", alpha=0.5)\n",
        "\n",
        "# Plot test edges\n",
        "nx.draw_networkx_edges(subgraph, sub_pos, edgelist=test_list_subset, edge_color=\"green\", alpha=0.5)\n",
        "\n",
        "# Plot neg edges\n",
        "train_neg_edges_ind = get_negative_edges(cora_train.edge_index, num_nodes =  Planetoid(path1,dataset1)[0].num_nodes ,num_negative_samples = cora_train.edge_index.shape[1]).t().tolist()\n",
        "train_neg_edges = [\n",
        "    edge for edge in train_neg_edges_ind if edge[0] in selected_nodes and edge[1] in selected_nodes\n",
        "]\n",
        "nx.draw_networkx_edges(subgraph, sub_pos, edgelist=train_neg_edges, edge_color=\"red\", alpha=0.5)\n",
        "\n",
        "\n",
        "plt.show()\n"
      ],
      "metadata": {
        "colab": {
          "base_uri": "https://localhost:8080/",
          "height": 499
        },
        "id": "-_EP_oZfGCNi",
        "outputId": "e49134fa-960a-4869-eef2-098dde0e458b"
      },
      "execution_count": null,
      "outputs": [
        {
          "output_type": "display_data",
          "data": {
            "text/plain": [
              "<Figure size 800x600 with 1 Axes>"
            ],
            "image/png": "[encoded data removed]"
          },
          "metadata": {}
        }
      ]
    },
    {
      "cell_type": "markdown",
      "source": [
        "## Transductive\n"
      ],
      "metadata": {
        "id": "Ksk01sgjnwEh"
      }
    },
    {
      "cell_type": "code",
      "source": [
        "import torch_geometric.transforms as T\n",
        "from torch_geometric.utils import train_test_split_edges, negative_sampling\n",
        "from torch_geometric.datasets import TUDataset\n",
        "from torch_geometric.datasets import ZINC\n",
        "import collections\n",
        "\n",
        "\n",
        "# Set seed\n",
        "set_seed(42)\n",
        "\n",
        "# For link prediction task\n",
        "dataset1 = 'Cora'\n",
        "path1 = '/tmp/Cora'\n",
        "\n",
        "\n",
        "\n",
        "\n",
        "# set dict of dataset wit different splittings\n",
        "\n",
        "transd_splitting = collections.defaultdict(list)\n",
        "\n",
        "# Tranformation\n",
        "\n",
        "for i,(v,t) in enumerate(ratio):\n",
        "\n",
        "  # Tranformation\n",
        "  transform = T.Compose([\n",
        "      T.NormalizeFeatures(),\n",
        "      T.ToDevice(device),\n",
        "  ])\n",
        "\n",
        "  dataset_cora = Planetoid(path1,dataset1, transform= transform)[0]\n",
        "  cora = train_test_split_edges(dataset_cora, val_ratio=0.2, test_ratio=0.2)\n",
        "\n",
        "  transd_splitting[i].append(cora)\n",
        "\n"
      ],
      "metadata": {
        "colab": {
          "base_uri": "https://localhost:8080/"
        },
        "id": "warwgFmIFI_C",
        "outputId": "90b9a372-7e7b-4aa2-f4a9-d2e350138141"
      },
      "execution_count": null,
      "outputs": [
        {
          "output_type": "stream",
          "name": "stderr",
          "text": [
            "/usr/local/lib/python3.10/dist-packages/torch_geometric/deprecation.py:26: UserWarning: 'train_test_split_edges' is deprecated, use 'transforms.RandomLinkSplit' instead\n",
            "  warnings.warn(out)\n"
          ]
        }
      ]
    },
    {
      "cell_type": "code",
      "source": [
        "transform = T.Compose([\n",
        "      T.NormalizeFeatures(),\n",
        "      T.ToDevice(device),\n",
        "  ])\n",
        "\n",
        "dataset_cora = Planetoid(path1,dataset1, transform= transform)[0]\n",
        "\n",
        "transd_splitting[0]"
      ],
      "metadata": {
        "colab": {
          "base_uri": "https://localhost:8080/"
        },
        "id": "8DcGsAigo1s5",
        "outputId": "b55b094a-44ae-4422-b79a-7cd208c5449a"
      },
      "execution_count": null,
      "outputs": [
        {
          "output_type": "execute_result",
          "data": {
            "text/plain": [
              "[Data(x=[2708, 1433], y=[2708], train_mask=[2708], val_mask=[2708], test_mask=[2708], val_pos_edge_index=[2, 1055], test_pos_edge_index=[2, 1055], train_pos_edge_index=[2, 6336], train_neg_adj_mask=[2708, 2708], val_neg_edge_index=[2, 1055], test_neg_edge_index=[2, 1055])]"
            ]
          },
          "metadata": {},
          "execution_count": 52
        }
      ]
    },
    {
      "cell_type": "code",
      "source": [
        "G = nx.Graph()\n",
        "G.add_nodes_from(range(dataset_cora.num_nodes))  # Use node indices\n",
        "# Generate positions for all nodes\n",
        "pos = nx.spring_layout(G)"
      ],
      "metadata": {
        "id": "Z5UZWydoTKuQ"
      },
      "execution_count": null,
      "outputs": []
    },
    {
      "cell_type": "code",
      "source": [
        "import random\n",
        "import matplotlib.pyplot as plt\n",
        "\n",
        "# Select a subset of nodes to plot to create a subset\n",
        "num_nodes_to_plot = 100\n",
        "selected_nodes = random.sample(list(G.nodes), num_nodes_to_plot)\n",
        "\n",
        "# Create a subgraph\n",
        "subgraph = G.subgraph(selected_nodes)\n",
        "sub_pos = {node: pos[node] for node in selected_nodes}  # Filter positions\n",
        "\n",
        "# Filter train and test edges\n",
        "train_list_subset = [\n",
        "    edge for edge in train_list if edge[0] in selected_nodes and edge[1] in selected_nodes\n",
        "]\n",
        "test_list_subset = [\n",
        "    edge for edge in test_list if edge[0] in selected_nodes and edge[1] in selected_nodes\n",
        "]\n",
        "\n",
        "# Plot the subgraph\n",
        "plt.figure(figsize=(8, 6))\n",
        "\n",
        "# Plot nodes\n",
        "nx.draw_networkx_nodes(subgraph, sub_pos, node_size=50, node_color=\"gray\")\n",
        "\n",
        "# Plot train edges\n",
        "nx.draw_networkx_edges(subgraph, sub_pos, edgelist=train_list_subset, edge_color=\"blue\", alpha=0.5)\n",
        "\n",
        "# Plot test edges\n",
        "nx.draw_networkx_edges(subgraph, sub_pos, edgelist=test_list_subset, edge_color=\"green\", alpha=0.5)\n",
        "\n",
        "# Plot neg edges\n",
        "train_neg_edges = get_negative_samples(cora, num_negative_samples = cora.train_pos_edge_index.shape[1]).t().tolist()\n",
        "train_neg_edges = [\n",
        "    edge for edge in train_neg_edges if edge[0] in selected_nodes and edge[1] in selected_nodes\n",
        "]\n",
        "nx.draw_networkx_edges(subgraph, sub_pos, edgelist=train_neg_edges, edge_color=\"red\", alpha=0.5)\n",
        "\n",
        "\n",
        "plt.show()\n"
      ],
      "metadata": {
        "colab": {
          "base_uri": "https://localhost:8080/",
          "height": 499
        },
        "id": "KFXawoakouBB",
        "outputId": "d181330f-3c65-4c95-d357-478928351877"
      },
      "execution_count": null,
      "outputs": [
        {
          "output_type": "display_data",
          "data": {
            "text/plain": [
              "<Figure size 800x600 with 1 Axes>"
            ],
            "image/png": "[encoded data removed]"
          },
          "metadata": {}
        }
      ]
    },
    {
      "cell_type": "markdown",
      "source": [
        "# GIN"
      ],
      "metadata": {
        "id": "jv4t17Jvkz2v"
      }
    },
    {
      "cell_type": "code",
      "source": [
        "from torch_geometric.nn.conv import MessagePassing\n",
        "from torch_geometric.nn.dense.linear import Linear\n",
        "from torch_geometric.nn.inits import reset\n",
        "\n",
        "\n",
        "class GINConv(MessagePassing):\n",
        "    def __init__(self, nn, eps = 0.0, train_eps = False,**kwargs):\n",
        "        kwargs.setdefault('aggr', 'add')\n",
        "        super().__init__(**kwargs)\n",
        "\n",
        "        self.nn = nn\n",
        "        self.initial_eps = eps\n",
        "\n",
        "        if train_eps:\n",
        "            self.eps = torch.nn.Parameter(torch.empty(1))\n",
        "        else:\n",
        "            self.register_buffer('eps', torch.empty(1))\n",
        "\n",
        "\n",
        "        self.reset_parameters()\n",
        "\n",
        "    def reset_parameters(self):\n",
        "        super().reset_parameters()\n",
        "        reset(self.nn)\n",
        "        self.eps.data.fill_(self.initial_eps)\n",
        "\n",
        "\n",
        "    def forward(self,x,edge_index,size = None):\n",
        "\n",
        "        out = self.propagate(edge_index, x=x, size=size)\n",
        "\n",
        "        x_r = x[1]\n",
        "        if x_r is not None:\n",
        "            out = out + (1 + self.eps) * x_r\n",
        "\n",
        "        return self.nn(out)\n",
        "\n",
        "\n",
        "    def message(self, x_j):\n",
        "        return x_j\n",
        "\n",
        "    def message_and_aggregate(self, adj_t, x):\n",
        "            adj_t = adj_t.set_value(None, layout=None)\n",
        "\n",
        "    def __repr__(self) -> str:\n",
        "        return f'{self.__class__.__name__}(nn={self.nn})'"
      ],
      "metadata": {
        "id": "wIHLMlRJgUqi"
      },
      "execution_count": null,
      "outputs": []
    },
    {
      "cell_type": "markdown",
      "source": [
        "# Model"
      ],
      "metadata": {
        "id": "lVW-RIEyk6AW"
      }
    },
    {
      "cell_type": "code",
      "source": [
        "from torch.nn import Linear, Sequential, BatchNorm1d, ReLU, Dropout\n",
        "from torch_geometric.nn import BatchNorm\n",
        "import torch.nn.functional as F\n",
        "\n",
        "class Net(torch.nn.Module):\n",
        "    def __init__(self, in_channels, hidden_channels, out_channels, num_classes = None, link_pred = True, is_batch = True):\n",
        "        super().__init__()\n",
        "        self.dropout = 0.5\n",
        "        self.link_pred = link_pred\n",
        "        self.is_batch = is_batch\n",
        "\n",
        "        # Sequential layers\n",
        "        self.nn1 = Sequential(\n",
        "            Linear(in_channels, hidden_channels),\n",
        "            BatchNorm1d(hidden_channels), ReLU(),\n",
        "            Linear(hidden_channels, hidden_channels), ReLU()\n",
        "        )\n",
        "        self.nn2 = Sequential(\n",
        "            Linear(hidden_channels, hidden_channels),\n",
        "            BatchNorm1d(hidden_channels), ReLU(),\n",
        "            Linear(hidden_channels, out_channels), ReLU()\n",
        "        )\n",
        "\n",
        "        # Convolutional layers\n",
        "        self.conv1 = GINConv(nn=self.nn1, train_eps=True)\n",
        "        self.conv2 = GINConv(nn=self.nn2, train_eps=True)\n",
        "\n",
        "        # Projection layer\n",
        "        self.projection = Linear(in_channels, hidden_channels)\n",
        "\n",
        "        # Batch normalization\n",
        "        self.batch = BatchNorm1d(hidden_channels)\n",
        "\n",
        "\n",
        "        if not link_pred:\n",
        "            self.edge_classifier = Sequential(\n",
        "                  Linear(2 * out_channels, hidden_channels),  # For concatenated embeddings\n",
        "                  ReLU(),\n",
        "                  Dropout(self.dropout),\n",
        "                  Linear(hidden_channels, num_classes)  # Output classes\n",
        "              )\n",
        "\n",
        "\n",
        "    def encode(self, x, edge_index):\n",
        "        res = self.projection(x) # [n_nodes, hidden_channels]\n",
        "        x = self.conv1(x, edge_index).relu() # [n_nodes, hidden_channels]\n",
        "\n",
        "        if self.is_batch:\n",
        "          x = self.batch(x + res) # [n_nodes, hidden_channels]\n",
        "        else:\n",
        "          x += res # [n_nodes, hidden_channels]\n",
        "\n",
        "        x = F.dropout(x, self.dropout, training=self.training) # [n_nodes, hidden_channels]\n",
        "        x = self.conv2(x, edge_index) # [n_nodes, out_channels]\n",
        "        return x # [n_nodes, out_channels]\n",
        "\n",
        "    def decode(self, z, edge_label_index):\n",
        "        src, dst = edge_label_index\n",
        "\n",
        "        if not self.link_pred:\n",
        "            edge_embeddings = torch.cat([z[src], z[dst]], dim=-1)  # [n_nodes, 2 * out_channels]\n",
        "            x = self.edge_classifier(edge_embeddings)  # [n_nodes, num_classes]\n",
        "            return x # [n_nodes, num_classes]\n",
        "\n",
        "        return (z[src] * z[dst]).sum(dim=-1) # [n_edges]\n",
        "\n",
        "    def decode_all(self, z):\n",
        "        prob_adj = z @ z.t()\n",
        "        return (prob_adj > 0).nonzero(as_tuple=False).t() # [n_edges]\n",
        "\n",
        "    def forward(self, x, edge_index, edge_label_index=None):\n",
        "        z = self.encode(x, edge_index) # [n_nodes, out_channels]\n",
        "        if not self.link_pred:\n",
        "            return self.decode(z, edge_index) # [n_nodes, num_classes]\n",
        "        return self.decode(z, edge_label_index).view(-1) # [n_edges]\n",
        "\n",
        "\n",
        "# Initialize model\n",
        "model = Net(cora_train.x.shape[1], 128, 64, is_batch=False).to(device)\n",
        "print(model)\n",
        "\n",
        "\n"
      ],
      "metadata": {
        "colab": {
          "base_uri": "https://localhost:8080/"
        },
        "id": "fczxmgJRBnlc",
        "outputId": "dc9a03a9-d062-4e18-9bca-57e6ccea552f"
      },
      "execution_count": null,
      "outputs": [
        {
          "output_type": "stream",
          "name": "stdout",
          "text": [
            "Net(\n",
            "  (nn1): Sequential(\n",
            "    (0): Linear(in_features=1433, out_features=128, bias=True)\n",
            "    (1): BatchNorm1d(128, eps=1e-05, momentum=0.1, affine=True, track_running_stats=True)\n",
            "    (2): ReLU()\n",
            "    (3): Linear(in_features=128, out_features=128, bias=True)\n",
            "    (4): ReLU()\n",
            "  )\n",
            "  (nn2): Sequential(\n",
            "    (0): Linear(in_features=128, out_features=128, bias=True)\n",
            "    (1): BatchNorm1d(128, eps=1e-05, momentum=0.1, affine=True, track_running_stats=True)\n",
            "    (2): ReLU()\n",
            "    (3): Linear(in_features=128, out_features=64, bias=True)\n",
            "    (4): ReLU()\n",
            "  )\n",
            "  (conv1): GINConv(nn=Sequential(\n",
            "    (0): Linear(in_features=1433, out_features=128, bias=True)\n",
            "    (1): BatchNorm1d(128, eps=1e-05, momentum=0.1, affine=True, track_running_stats=True)\n",
            "    (2): ReLU()\n",
            "    (3): Linear(in_features=128, out_features=128, bias=True)\n",
            "    (4): ReLU()\n",
            "  ))\n",
            "  (conv2): GINConv(nn=Sequential(\n",
            "    (0): Linear(in_features=128, out_features=128, bias=True)\n",
            "    (1): BatchNorm1d(128, eps=1e-05, momentum=0.1, affine=True, track_running_stats=True)\n",
            "    (2): ReLU()\n",
            "    (3): Linear(in_features=128, out_features=64, bias=True)\n",
            "    (4): ReLU()\n",
            "  ))\n",
            "  (projection): Linear(in_features=1433, out_features=128, bias=True)\n",
            "  (batch): BatchNorm1d(128, eps=1e-05, momentum=0.1, affine=True, track_running_stats=True)\n",
            ")\n"
          ]
        }
      ]
    },
    {
      "cell_type": "markdown",
      "source": [
        "# Utilis"
      ],
      "metadata": {
        "id": "OGD4O0LBZe7y"
      }
    },
    {
      "cell_type": "markdown",
      "source": [
        "## Link prediction\n"
      ],
      "metadata": {
        "id": "uXFndpnrIC85"
      }
    },
    {
      "cell_type": "code",
      "source": [
        "!pip install tqdm\n",
        "from tqdm import tqdm\n",
        "\n",
        "\n",
        "\n",
        "def train(epoch,\n",
        "          criterion,\n",
        "          data,\n",
        "          model,\n",
        "          lr,\n",
        "          wd,\n",
        "          device,\n",
        "          transductive= False):\n",
        "    model = model.to(device)\n",
        "    n = data.x.shape[0]\n",
        "    opt = torch.optim.Adam(model.parameters(), lr=lr, weight_decay=wd) # 5e-4\n",
        "\n",
        "    # initialize lists\n",
        "    all_pred = []\n",
        "    loss_history = []\n",
        "\n",
        "    # initialize loss\n",
        "    total_loss = 0\n",
        "\n",
        "\n",
        "\n",
        "    for i in tqdm(range(0, epoch)):\n",
        "        # set training mode\n",
        "        model.train()\n",
        "        # reset the grad at every batch\n",
        "        opt.zero_grad()\n",
        "\n",
        "\n",
        "        #egde_index, num_nodes, num_negative_samples\n",
        "\n",
        "        if transductive:\n",
        "          neg_edge_index = negative_sampling(\n",
        "            edge_index=data.train_pos_edge_index, #positive edges\n",
        "            num_nodes=data.num_nodes, # number of nodes\n",
        "            num_neg_samples=data.train_pos_edge_index.size(1)) # number of neg_sample equal to number of pos_edges\n",
        "        else:\n",
        "          neg_samples_index = get_negative_edges(\n",
        "              egde_index = cora_train.edge_index,\n",
        "              num_nodes = data.num_nodes,\n",
        "              num_negative_samples = cora_train.edge_label_index.shape[1]\n",
        "          )\n",
        "\n",
        "        # features\n",
        "        x = data.x\n",
        "\n",
        "        # edge_index\n",
        "        if transductive:\n",
        "          edge_index = data.train_pos_edge_index\n",
        "          edge_label_index = torch.cat([edge_index,neg_edge_index], dim = -1)\n",
        "        else:\n",
        "          edge_index = data.edge_index\n",
        "          edge_label_index = torch.cat([data.edge_label_index,neg_samples_index], dim = -1)\n",
        "\n",
        "\n",
        "\n",
        "        # true labels\n",
        "        if transductive:\n",
        "          E = edge_index.size(1) + neg_edge_index.size(1)\n",
        "          link_labels = torch.zeros(E, dtype=torch.float, device=device)\n",
        "          link_labels[:edge_index.size(1)] = 1.\n",
        "          y = link_labels\n",
        "        else:\n",
        "          y = torch.cat([data.edge_label,data.edge_label.new_zeros(neg_samples_index.size(1))],dim = 0)\n",
        "\n",
        "        # output\n",
        "\n",
        "        out = model(x, edge_index, edge_label_index)\n",
        "\n",
        "        # compute the probs\n",
        "        probs = torch.sigmoid(out)\n",
        "\n",
        "\n",
        "        # compute the labels\n",
        "        predicted_labels = torch.where(probs > 0.5, torch.ones_like(probs), torch.zeros_like(probs))\n",
        "\n",
        "        # compute the loss\n",
        "        loss = criterion(out, y)\n",
        "\n",
        "        # compute gradients\n",
        "        loss.backward()\n",
        "        # optimize\n",
        "        opt.step()\n",
        "\n",
        "        # Accumulate loss for this batch\n",
        "        total_loss += loss.item()\n",
        "\n",
        "        if i == epoch-1:\n",
        "            all_pred = predicted_labels.detach().cpu().numpy()\n",
        "\n",
        "        if i % 100 == 0:\n",
        "            loss_history.append(loss.item())\n",
        "            print(f\"The current loss is {loss.item():.4f}\")\n",
        "\n",
        "    avg_epoch_loss = total_loss / epoch\n",
        "\n",
        "    return avg_epoch_loss, all_pred, loss_history"
      ],
      "metadata": {
        "colab": {
          "base_uri": "https://localhost:8080/"
        },
        "id": "pT08Zh9G2cyC",
        "outputId": "8850ccd9-87dc-4f46-9d3e-31c1dcdc12af"
      },
      "execution_count": null,
      "outputs": [
        {
          "output_type": "stream",
          "name": "stdout",
          "text": [
            "Requirement already satisfied: tqdm in /usr/local/lib/python3.10/dist-packages (4.66.6)\n"
          ]
        }
      ]
    },
    {
      "cell_type": "code",
      "source": [
        "from sklearn.metrics import roc_auc_score\n",
        "\n",
        "def test(data, model, device, transductive = False):\n",
        "  model.eval()\n",
        "\n",
        "  with torch.no_grad():\n",
        "            data = data.to(device)\n",
        "\n",
        "            x = data.x\n",
        "            if transductive:\n",
        "              neg_edge_index = data.test_neg_edge_index\n",
        "              edge_index = data.test_pos_edge_index\n",
        "              edge_label_index = torch.cat([edge_index,neg_edge_index], dim = -1)\n",
        "\n",
        "            else:\n",
        "              edge_index = data.edge_index\n",
        "              edge_label_index = data.edge_label_index\n",
        "\n",
        "            if transductive:\n",
        "              E = edge_index.size(1) + neg_edge_index.size(1)\n",
        "              link_labels = torch.zeros(E, dtype=torch.float, device=device)\n",
        "              link_labels[:edge_index.size(1)] = 1.\n",
        "              y = link_labels\n",
        "            else:\n",
        "              y = data.edge_label\n",
        "\n",
        "\n",
        "            # Forward pass through the model\n",
        "            logits = model(x, edge_index, edge_label_index)\n",
        "\n",
        "            # compute the probs\n",
        "            probs = torch.sigmoid(logits)\n",
        "\n",
        "            # compute the labels\n",
        "            predicted_labels = torch.where(probs > 0.5, torch.ones_like(probs), torch.zeros_like(probs))\n",
        "\n",
        "            # Move tensors to CPU before using NumPy\n",
        "            all_pred = predicted_labels.cpu().numpy()\n",
        "            all_labels = y.cpu().numpy()\n",
        "            all_probs = probs.cpu().numpy()\n",
        "\n",
        "            # Calculate ROC AUC score\n",
        "            score = roc_auc_score(all_labels, probs)\n",
        "\n",
        "\n",
        "\n",
        "            return score, all_pred, all_labels\n",
        "\n",
        "\n",
        "\n"
      ],
      "metadata": {
        "id": "TP6TyaYYBOuP"
      },
      "execution_count": null,
      "outputs": []
    },
    {
      "cell_type": "markdown",
      "source": [
        "## Others"
      ],
      "metadata": {
        "id": "eJ62X8eyIPZ6"
      }
    },
    {
      "cell_type": "code",
      "source": [
        "def plot_acc(ax, true_label, pred_labels, split, method):\n",
        "  # Generate the confusion matrix\n",
        "  cm = confusion_matrix(true_label, pred_labels)\n",
        "  disp = ConfusionMatrixDisplay(confusion_matrix=cm, display_labels=[\"linked\", 'not linked'])\n",
        "\n",
        "  # Plot the confusion matrix on the specified axis\n",
        "  disp.plot(ax=ax, cmap=plt.cm.Blues)\n",
        "  ax.set_title(f'{method}: Confusion Matrix for Splitting {split}')\n",
        "\n",
        "  return disp\n"
      ],
      "metadata": {
        "id": "zr60qzZFZlv4"
      },
      "execution_count": null,
      "outputs": []
    },
    {
      "cell_type": "code",
      "source": [
        "def plot_loss(ax, loss_history, epochs, model, splitting):\n",
        "  x = range(0, epochs +1, 100)\n",
        "  ax.plot(x,loss_history, label='train_loss')\n",
        "  ax.legend()\n",
        "  ax.set_title(f\"{model}: Train loss. Splitting: {splitting}\")\n",
        "  ax.set_ylabel(\"CrossEntropy per epoch\")\n",
        "  ax.set_xlabel(\"Epoch\")\n"
      ],
      "metadata": {
        "id": "p54v3r4KZurg"
      },
      "execution_count": null,
      "outputs": []
    },
    {
      "cell_type": "code",
      "source": [
        "def load_model(split_key, path, app):\n",
        "    model = Net(cora_train.x.shape[1], 128, 64, is_batch=True).to(device)\n",
        "    checkpoint = torch.load(f'{path}/{app}_{split_key}.pt')\n",
        "    model.load_state_dict(checkpoint['model_state_dict'])\n",
        "    model.eval()  # Set to evaluation mode\n",
        "    return model"
      ],
      "metadata": {
        "id": "SnRCsf2JZwBm"
      },
      "execution_count": null,
      "outputs": []
    },
    {
      "cell_type": "markdown",
      "source": [
        "# Link prediction"
      ],
      "metadata": {
        "id": "morFfEIgB8u_"
      }
    },
    {
      "cell_type": "markdown",
      "source": [
        "## Inductive"
      ],
      "metadata": {
        "id": "O2BohiT6W9kp"
      }
    },
    {
      "cell_type": "markdown",
      "source": [
        "### Train\n"
      ],
      "metadata": {
        "id": "dhlg2ACDb6oC"
      }
    },
    {
      "cell_type": "code",
      "source": [
        "import collections\n",
        "import os\n",
        "\n",
        "\n",
        "\n",
        "# Set seed\n",
        "set_seed(42)\n",
        "criterion = nn.BCEWithLogitsLoss()\n",
        "\n",
        "# Create dictionaries to store results for each split\n",
        "split_loss_history = collections.defaultdict(list)\n",
        "split_pred_history = collections.defaultdict(list)\n",
        "split_final_losses = []\n",
        "\n",
        "# Create a directory to save models if it doesn't exist\n",
        "os.makedirs('saved_models', exist_ok=True)\n",
        "trained_models = {}  # Dictionary to store the trained models\n",
        "\n",
        "\n",
        "for k, v in datasets_splitting.items():\n",
        "    cora_train = v[0]\n",
        "    print(cora_train)\n",
        "    epochs = 1000\n",
        "\n",
        "    # initialize model\n",
        "    model = Net(cora_train.x.shape[1], 128, 64, is_batch=True).to(device)\n",
        "\n",
        "    # Time to train\n",
        "    final_loss, pred, epoch_losses = train(epoch=epochs,\n",
        "                                         criterion=criterion,\n",
        "                                         data=cora_train,\n",
        "                                         model=model,\n",
        "                                         lr=0.01,\n",
        "                                         wd=5e-4,\n",
        "                                         device=device)\n",
        "\n",
        "    # Store results for this split\n",
        "    split_loss_history[k] = epoch_losses\n",
        "    split_pred_history[k] = pred\n",
        "    split_final_losses.append(final_loss)\n",
        "\n",
        "    # Save the model\n",
        "    model_path = f'saved_models/model_split_{k}.pt'\n",
        "    torch.save({\n",
        "        'model_state_dict': model.state_dict(),\n",
        "        'final_loss': final_loss,\n",
        "        'epoch_losses': epoch_losses,\n",
        "        'split_key': k\n",
        "    }, model_path)\n",
        "\n",
        "\n",
        "    trained_models[k] = model"
      ],
      "metadata": {
        "colab": {
          "base_uri": "https://localhost:8080/"
        },
        "outputId": "c3ef842b-3ac4-4552-fc9e-313e2ad9cf01",
        "id": "TDoIwVHQb6Db"
      },
      "execution_count": null,
      "outputs": [
        {
          "output_type": "stream",
          "name": "stdout",
          "text": [
            "Data(x=[2708, 1433], edge_index=[2, 6336], edge_label=[3168], edge_label_index=[2, 3168])\n"
          ]
        },
        {
          "output_type": "stream",
          "name": "stderr",
          "text": [
            "  0%|          | 1/1000 [00:00<03:47,  4.39it/s]"
          ]
        },
        {
          "output_type": "stream",
          "name": "stdout",
          "text": [
            "The current loss is 0.9524\n"
          ]
        },
        {
          "output_type": "stream",
          "name": "stderr",
          "text": [
            " 10%|█         | 102/1000 [00:22<02:35,  5.79it/s]"
          ]
        },
        {
          "output_type": "stream",
          "name": "stdout",
          "text": [
            "The current loss is 0.4928\n"
          ]
        },
        {
          "output_type": "stream",
          "name": "stderr",
          "text": [
            " 20%|██        | 201/1000 [00:42<02:21,  5.63it/s]"
          ]
        },
        {
          "output_type": "stream",
          "name": "stdout",
          "text": [
            "The current loss is 0.4860\n"
          ]
        },
        {
          "output_type": "stream",
          "name": "stderr",
          "text": [
            " 30%|███       | 302/1000 [01:04<02:09,  5.37it/s]"
          ]
        },
        {
          "output_type": "stream",
          "name": "stdout",
          "text": [
            "The current loss is 0.4824\n"
          ]
        },
        {
          "output_type": "stream",
          "name": "stderr",
          "text": [
            " 40%|████      | 401/1000 [01:24<01:45,  5.70it/s]"
          ]
        },
        {
          "output_type": "stream",
          "name": "stdout",
          "text": [
            "The current loss is 0.4736\n"
          ]
        },
        {
          "output_type": "stream",
          "name": "stderr",
          "text": [
            " 50%|█████     | 501/1000 [01:56<02:24,  3.47it/s]"
          ]
        },
        {
          "output_type": "stream",
          "name": "stdout",
          "text": [
            "The current loss is 0.4763\n"
          ]
        },
        {
          "output_type": "stream",
          "name": "stderr",
          "text": [
            " 60%|██████    | 601/1000 [02:21<01:40,  3.97it/s]"
          ]
        },
        {
          "output_type": "stream",
          "name": "stdout",
          "text": [
            "The current loss is 0.4772\n"
          ]
        },
        {
          "output_type": "stream",
          "name": "stderr",
          "text": [
            " 70%|███████   | 701/1000 [02:47<01:06,  4.51it/s]"
          ]
        },
        {
          "output_type": "stream",
          "name": "stdout",
          "text": [
            "The current loss is 0.4721\n"
          ]
        },
        {
          "output_type": "stream",
          "name": "stderr",
          "text": [
            " 80%|████████  | 801/1000 [03:23<01:21,  2.43it/s]"
          ]
        },
        {
          "output_type": "stream",
          "name": "stdout",
          "text": [
            "The current loss is 0.4711\n"
          ]
        },
        {
          "output_type": "stream",
          "name": "stderr",
          "text": [
            " 90%|█████████ | 901/1000 [03:56<00:35,  2.79it/s]"
          ]
        },
        {
          "output_type": "stream",
          "name": "stdout",
          "text": [
            "The current loss is 0.4671\n"
          ]
        },
        {
          "output_type": "stream",
          "name": "stderr",
          "text": [
            "100%|██████████| 1000/1000 [04:33<00:00,  3.66it/s]\n"
          ]
        },
        {
          "output_type": "stream",
          "name": "stdout",
          "text": [
            "Data(x=[2708, 1433], edge_index=[2, 7392], edge_label=[3696], edge_label_index=[2, 3696])\n"
          ]
        },
        {
          "output_type": "stream",
          "name": "stderr",
          "text": [
            "  0%|          | 1/1000 [00:00<08:48,  1.89it/s]"
          ]
        },
        {
          "output_type": "stream",
          "name": "stdout",
          "text": [
            "The current loss is 1.1689\n"
          ]
        },
        {
          "output_type": "stream",
          "name": "stderr",
          "text": [
            " 10%|█         | 102/1000 [00:23<02:43,  5.48it/s]"
          ]
        },
        {
          "output_type": "stream",
          "name": "stdout",
          "text": [
            "The current loss is 0.5451\n"
          ]
        },
        {
          "output_type": "stream",
          "name": "stderr",
          "text": [
            " 20%|██        | 202/1000 [00:52<02:29,  5.34it/s]"
          ]
        },
        {
          "output_type": "stream",
          "name": "stdout",
          "text": [
            "The current loss is 0.5279\n"
          ]
        },
        {
          "output_type": "stream",
          "name": "stderr",
          "text": [
            " 30%|███       | 302/1000 [01:14<02:13,  5.24it/s]"
          ]
        },
        {
          "output_type": "stream",
          "name": "stdout",
          "text": [
            "The current loss is 0.5278\n"
          ]
        },
        {
          "output_type": "stream",
          "name": "stderr",
          "text": [
            " 40%|████      | 402/1000 [01:35<01:54,  5.22it/s]"
          ]
        },
        {
          "output_type": "stream",
          "name": "stdout",
          "text": [
            "The current loss is 0.5257\n"
          ]
        },
        {
          "output_type": "stream",
          "name": "stderr",
          "text": [
            " 50%|█████     | 502/1000 [02:00<01:29,  5.55it/s]"
          ]
        },
        {
          "output_type": "stream",
          "name": "stdout",
          "text": [
            "The current loss is 0.5223\n"
          ]
        },
        {
          "output_type": "stream",
          "name": "stderr",
          "text": [
            " 60%|██████    | 601/1000 [02:28<01:49,  3.63it/s]"
          ]
        },
        {
          "output_type": "stream",
          "name": "stdout",
          "text": [
            "The current loss is 0.5244\n"
          ]
        },
        {
          "output_type": "stream",
          "name": "stderr",
          "text": [
            " 70%|███████   | 701/1000 [02:54<01:43,  2.88it/s]"
          ]
        },
        {
          "output_type": "stream",
          "name": "stdout",
          "text": [
            "The current loss is 0.5207\n"
          ]
        },
        {
          "output_type": "stream",
          "name": "stderr",
          "text": [
            " 80%|████████  | 801/1000 [03:26<00:47,  4.15it/s]"
          ]
        },
        {
          "output_type": "stream",
          "name": "stdout",
          "text": [
            "The current loss is 0.5209\n"
          ]
        },
        {
          "output_type": "stream",
          "name": "stderr",
          "text": [
            " 90%|█████████ | 902/1000 [03:55<00:18,  5.18it/s]"
          ]
        },
        {
          "output_type": "stream",
          "name": "stdout",
          "text": [
            "The current loss is 0.5205\n"
          ]
        },
        {
          "output_type": "stream",
          "name": "stderr",
          "text": [
            "100%|██████████| 1000/1000 [04:17<00:00,  3.88it/s]\n"
          ]
        },
        {
          "output_type": "stream",
          "name": "stdout",
          "text": [
            "Data(x=[2708, 1433], edge_index=[2, 8448], edge_label=[4224], edge_label_index=[2, 4224])\n"
          ]
        },
        {
          "output_type": "stream",
          "name": "stderr",
          "text": [
            "  0%|          | 1/1000 [00:00<03:28,  4.78it/s]"
          ]
        },
        {
          "output_type": "stream",
          "name": "stdout",
          "text": [
            "The current loss is 1.0450\n"
          ]
        },
        {
          "output_type": "stream",
          "name": "stderr",
          "text": [
            " 10%|█         | 101/1000 [00:22<03:10,  4.71it/s]"
          ]
        },
        {
          "output_type": "stream",
          "name": "stdout",
          "text": [
            "The current loss is 0.5026\n"
          ]
        },
        {
          "output_type": "stream",
          "name": "stderr",
          "text": [
            " 20%|██        | 201/1000 [00:48<02:52,  4.65it/s]"
          ]
        },
        {
          "output_type": "stream",
          "name": "stdout",
          "text": [
            "The current loss is 0.4875\n"
          ]
        },
        {
          "output_type": "stream",
          "name": "stderr",
          "text": [
            " 30%|███       | 301/1000 [01:11<02:24,  4.83it/s]"
          ]
        },
        {
          "output_type": "stream",
          "name": "stdout",
          "text": [
            "The current loss is 0.4851\n"
          ]
        },
        {
          "output_type": "stream",
          "name": "stderr",
          "text": [
            " 40%|████      | 401/1000 [01:34<02:50,  3.51it/s]"
          ]
        },
        {
          "output_type": "stream",
          "name": "stdout",
          "text": [
            "The current loss is 0.4769\n"
          ]
        },
        {
          "output_type": "stream",
          "name": "stderr",
          "text": [
            " 50%|█████     | 501/1000 [01:59<01:42,  4.85it/s]"
          ]
        },
        {
          "output_type": "stream",
          "name": "stdout",
          "text": [
            "The current loss is 0.4756\n"
          ]
        },
        {
          "output_type": "stream",
          "name": "stderr",
          "text": [
            " 60%|██████    | 601/1000 [02:23<01:22,  4.83it/s]"
          ]
        },
        {
          "output_type": "stream",
          "name": "stdout",
          "text": [
            "The current loss is 0.4811\n"
          ]
        },
        {
          "output_type": "stream",
          "name": "stderr",
          "text": [
            " 70%|███████   | 701/1000 [02:46<01:30,  3.31it/s]"
          ]
        },
        {
          "output_type": "stream",
          "name": "stdout",
          "text": [
            "The current loss is 0.4748\n"
          ]
        },
        {
          "output_type": "stream",
          "name": "stderr",
          "text": [
            " 80%|████████  | 801/1000 [03:08<00:42,  4.72it/s]"
          ]
        },
        {
          "output_type": "stream",
          "name": "stdout",
          "text": [
            "The current loss is 0.4736\n"
          ]
        },
        {
          "output_type": "stream",
          "name": "stderr",
          "text": [
            " 90%|█████████ | 901/1000 [03:31<00:20,  4.81it/s]"
          ]
        },
        {
          "output_type": "stream",
          "name": "stdout",
          "text": [
            "The current loss is 0.4678\n"
          ]
        },
        {
          "output_type": "stream",
          "name": "stderr",
          "text": [
            "100%|██████████| 1000/1000 [03:54<00:00,  4.27it/s]\n"
          ]
        },
        {
          "output_type": "stream",
          "name": "stdout",
          "text": [
            "Data(x=[2708, 1433], edge_index=[2, 7392], edge_label=[3696], edge_label_index=[2, 3696])\n"
          ]
        },
        {
          "output_type": "stream",
          "name": "stderr",
          "text": [
            "  0%|          | 1/1000 [00:00<04:57,  3.36it/s]"
          ]
        },
        {
          "output_type": "stream",
          "name": "stdout",
          "text": [
            "The current loss is 1.0423\n"
          ]
        },
        {
          "output_type": "stream",
          "name": "stderr",
          "text": [
            " 10%|█         | 102/1000 [00:20<02:38,  5.66it/s]"
          ]
        },
        {
          "output_type": "stream",
          "name": "stdout",
          "text": [
            "The current loss is 0.5074\n"
          ]
        },
        {
          "output_type": "stream",
          "name": "stderr",
          "text": [
            " 20%|██        | 201/1000 [00:39<02:25,  5.50it/s]"
          ]
        },
        {
          "output_type": "stream",
          "name": "stdout",
          "text": [
            "The current loss is 0.4993\n"
          ]
        },
        {
          "output_type": "stream",
          "name": "stderr",
          "text": [
            " 30%|███       | 302/1000 [01:00<02:04,  5.63it/s]"
          ]
        },
        {
          "output_type": "stream",
          "name": "stdout",
          "text": [
            "The current loss is 0.4819\n"
          ]
        },
        {
          "output_type": "stream",
          "name": "stderr",
          "text": [
            " 40%|████      | 402/1000 [01:20<01:47,  5.58it/s]"
          ]
        },
        {
          "output_type": "stream",
          "name": "stdout",
          "text": [
            "The current loss is 0.4834\n"
          ]
        },
        {
          "output_type": "stream",
          "name": "stderr",
          "text": [
            " 50%|█████     | 501/1000 [01:40<02:11,  3.80it/s]"
          ]
        },
        {
          "output_type": "stream",
          "name": "stdout",
          "text": [
            "The current loss is 0.4748\n"
          ]
        },
        {
          "output_type": "stream",
          "name": "stderr",
          "text": [
            " 60%|██████    | 602/1000 [02:00<01:12,  5.46it/s]"
          ]
        },
        {
          "output_type": "stream",
          "name": "stdout",
          "text": [
            "The current loss is 0.4793\n"
          ]
        },
        {
          "output_type": "stream",
          "name": "stderr",
          "text": [
            " 70%|███████   | 702/1000 [02:19<00:53,  5.55it/s]"
          ]
        },
        {
          "output_type": "stream",
          "name": "stdout",
          "text": [
            "The current loss is 0.4710\n"
          ]
        },
        {
          "output_type": "stream",
          "name": "stderr",
          "text": [
            " 80%|████████  | 802/1000 [02:39<00:35,  5.66it/s]"
          ]
        },
        {
          "output_type": "stream",
          "name": "stdout",
          "text": [
            "The current loss is 0.4841\n"
          ]
        },
        {
          "output_type": "stream",
          "name": "stderr",
          "text": [
            " 90%|█████████ | 902/1000 [02:59<00:17,  5.48it/s]"
          ]
        },
        {
          "output_type": "stream",
          "name": "stdout",
          "text": [
            "The current loss is 0.4730\n"
          ]
        },
        {
          "output_type": "stream",
          "name": "stderr",
          "text": [
            "100%|██████████| 1000/1000 [03:19<00:00,  5.02it/s]\n"
          ]
        }
      ]
    },
    {
      "cell_type": "code",
      "source": [
        "fig, ax = plt.subplots(2, 2, figsize=(10, 8))\n",
        "\n",
        "# Flatten the 2D array for easier iteration\n",
        "axes = ax.flatten()\n",
        "\n",
        "# Loop through loss_history and plot\n",
        "for i, (key, value) in enumerate(split_loss_history.items()):\n",
        "    plot_loss(axes[i], value, 999, \"GIN\", str(ratio[i]) )\n",
        "\n",
        "plt.tight_layout()\n",
        "plt.show()"
      ],
      "metadata": {
        "colab": {
          "base_uri": "https://localhost:8080/",
          "height": 807
        },
        "id": "O7v6iiWxbM8s",
        "outputId": "36a1f17b-c64d-4c23-de7b-80de8ce79b1a"
      },
      "execution_count": null,
      "outputs": [
        {
          "output_type": "display_data",
          "data": {
            "text/plain": [
              "<Figure size 1000x800 with 4 Axes>"
            ],
            "image/png": "[encoded data removed]"
          },
          "metadata": {}
        }
      ]
    },
    {
      "cell_type": "markdown",
      "source": [
        "### Test\n"
      ],
      "metadata": {
        "id": "ijb6mTMbb8lz"
      }
    },
    {
      "cell_type": "code",
      "source": [
        "import collections\n",
        "\n",
        "\n",
        "\n",
        "# Set seed\n",
        "set_seed(42)\n",
        "\n",
        "\n",
        "# Create dictionaries to store results for each split\n",
        "split_y_test = collections.defaultdict(list)\n",
        "test_split_pred_history = collections.defaultdict(list)\n",
        "split_score = []\n",
        "split_acc = []\n",
        "\n",
        "\n",
        "\n",
        "for k, v in datasets_splitting.items():\n",
        "    cora_test = v[2]\n",
        "\n",
        "    # initialize model\n",
        "    model = load_model(k)\n",
        "    score, pred, y_test = test(cora_test, model, device)\n",
        "    accuracy = (pred == y_test).mean().item()\n",
        "\n",
        "    # Store results for this split\n",
        "    split_y_test[k] = y_test\n",
        "    test_split_pred_history[k] = pred\n",
        "    split_score.append(score)\n",
        "    split_acc.append(accuracy)"
      ],
      "metadata": {
        "id": "VYh9Ju-HcDsc",
        "colab": {
          "base_uri": "https://localhost:8080/"
        },
        "outputId": "23e52e39-016d-41a4-d1bb-307135937070"
      },
      "execution_count": null,
      "outputs": [
        {
          "output_type": "stream",
          "name": "stdout",
          "text": [
            "Data(x=[2708, 1433], edge_index=[2, 8446], edge_label=[2110], edge_label_index=[2, 2110])\n"
          ]
        },
        {
          "output_type": "stream",
          "name": "stderr",
          "text": [
            "<ipython-input-72-d91c461e2255>:3: FutureWarning: You are using `torch.load` with `weights_only=False` (the current default value), which uses the default pickle module implicitly. It is possible to construct malicious pickle data which will execute arbitrary code during unpickling (See https://github.com/pytorch/pytorch/blob/main/SECURITY.md#untrusted-models for more details). In a future release, the default value for `weights_only` will be flipped to `True`. This limits the functions that could be executed during unpickling. Arbitrary objects will no longer be allowed to be loaded via this mode unless they are explicitly allowlisted by the user via `torch.serialization.add_safe_globals`. We recommend you start setting `weights_only=True` for any use case where you don't have full control of the loaded file. Please open an issue on GitHub for any issues related to this experimental feature.\n",
            "  checkpoint = torch.load(f'saved_models/model_split_{split_key}.pt')\n"
          ]
        },
        {
          "output_type": "stream",
          "name": "stdout",
          "text": [
            "Data(x=[2708, 1433], edge_index=[2, 8446], edge_label=[2110], edge_label_index=[2, 2110])\n"
          ]
        },
        {
          "output_type": "stream",
          "name": "stderr",
          "text": [
            "<ipython-input-72-d91c461e2255>:3: FutureWarning: You are using `torch.load` with `weights_only=False` (the current default value), which uses the default pickle module implicitly. It is possible to construct malicious pickle data which will execute arbitrary code during unpickling (See https://github.com/pytorch/pytorch/blob/main/SECURITY.md#untrusted-models for more details). In a future release, the default value for `weights_only` will be flipped to `True`. This limits the functions that could be executed during unpickling. Arbitrary objects will no longer be allowed to be loaded via this mode unless they are explicitly allowlisted by the user via `torch.serialization.add_safe_globals`. We recommend you start setting `weights_only=True` for any use case where you don't have full control of the loaded file. Please open an issue on GitHub for any issues related to this experimental feature.\n",
            "  checkpoint = torch.load(f'saved_models/model_split_{split_key}.pt')\n"
          ]
        },
        {
          "output_type": "stream",
          "name": "stdout",
          "text": [
            "Data(x=[2708, 1433], edge_index=[2, 9502], edge_label=[1054], edge_label_index=[2, 1054])\n"
          ]
        },
        {
          "output_type": "stream",
          "name": "stderr",
          "text": [
            "<ipython-input-72-d91c461e2255>:3: FutureWarning: You are using `torch.load` with `weights_only=False` (the current default value), which uses the default pickle module implicitly. It is possible to construct malicious pickle data which will execute arbitrary code during unpickling (See https://github.com/pytorch/pytorch/blob/main/SECURITY.md#untrusted-models for more details). In a future release, the default value for `weights_only` will be flipped to `True`. This limits the functions that could be executed during unpickling. Arbitrary objects will no longer be allowed to be loaded via this mode unless they are explicitly allowlisted by the user via `torch.serialization.add_safe_globals`. We recommend you start setting `weights_only=True` for any use case where you don't have full control of the loaded file. Please open an issue on GitHub for any issues related to this experimental feature.\n",
            "  checkpoint = torch.load(f'saved_models/model_split_{split_key}.pt')\n"
          ]
        },
        {
          "output_type": "stream",
          "name": "stdout",
          "text": [
            "Data(x=[2708, 1433], edge_index=[2, 9502], edge_label=[1054], edge_label_index=[2, 1054])\n"
          ]
        },
        {
          "output_type": "stream",
          "name": "stderr",
          "text": [
            "<ipython-input-72-d91c461e2255>:3: FutureWarning: You are using `torch.load` with `weights_only=False` (the current default value), which uses the default pickle module implicitly. It is possible to construct malicious pickle data which will execute arbitrary code during unpickling (See https://github.com/pytorch/pytorch/blob/main/SECURITY.md#untrusted-models for more details). In a future release, the default value for `weights_only` will be flipped to `True`. This limits the functions that could be executed during unpickling. Arbitrary objects will no longer be allowed to be loaded via this mode unless they are explicitly allowlisted by the user via `torch.serialization.add_safe_globals`. We recommend you start setting `weights_only=True` for any use case where you don't have full control of the loaded file. Please open an issue on GitHub for any issues related to this experimental feature.\n",
            "  checkpoint = torch.load(f'saved_models/model_split_{split_key}.pt')\n"
          ]
        }
      ]
    },
    {
      "cell_type": "code",
      "source": [
        "for i, v in enumerate(split_acc):\n",
        "  print('\"\"\"\"\"\"\"\"\"\"\"\"\"\"\"\"\"\"\"\"\"\"\"\"\"\"\"\"\"\"\"\"\"\"')\n",
        "  print(f\"Area under the roc curve: {split_score[i]}\")\n",
        "  print(f\"Accuracy: {v:.2f}\")\n",
        "  print('\\n\"\"\"\"\"\"\"\"\"\"\"\"\"\"\"\"\"\"\"\"\"\"\"\"\"\"\"\"\"\"\"\"\"\"')\n"
      ],
      "metadata": {
        "colab": {
          "base_uri": "https://localhost:8080/"
        },
        "outputId": "bb40c955-662b-489a-d1d2-4bc3c98db5f4",
        "id": "97ZnBc0FcDsk"
      },
      "execution_count": null,
      "outputs": [
        {
          "output_type": "stream",
          "name": "stdout",
          "text": [
            "\"\"\"\"\"\"\"\"\"\"\"\"\"\"\"\"\"\"\"\"\"\"\"\"\"\"\"\"\"\"\"\"\"\"\n",
            "Area under the roc curve: 0.8047290042901103\n",
            "Accuracy: 0.76\n",
            "\n",
            "\"\"\"\"\"\"\"\"\"\"\"\"\"\"\"\"\"\"\"\"\"\"\"\"\"\"\"\"\"\"\"\"\"\"\n",
            "\"\"\"\"\"\"\"\"\"\"\"\"\"\"\"\"\"\"\"\"\"\"\"\"\"\"\"\"\"\"\"\"\"\"\n",
            "Area under the roc curve: 0.7864297747130568\n",
            "Accuracy: 0.73\n",
            "\n",
            "\"\"\"\"\"\"\"\"\"\"\"\"\"\"\"\"\"\"\"\"\"\"\"\"\"\"\"\"\"\"\"\"\"\"\n",
            "\"\"\"\"\"\"\"\"\"\"\"\"\"\"\"\"\"\"\"\"\"\"\"\"\"\"\"\"\"\"\"\"\"\"\n",
            "Area under the roc curve: 0.8318774776850815\n",
            "Accuracy: 0.72\n",
            "\n",
            "\"\"\"\"\"\"\"\"\"\"\"\"\"\"\"\"\"\"\"\"\"\"\"\"\"\"\"\"\"\"\"\"\"\"\n",
            "\"\"\"\"\"\"\"\"\"\"\"\"\"\"\"\"\"\"\"\"\"\"\"\"\"\"\"\"\"\"\"\"\"\"\n",
            "Area under the roc curve: 0.8328388465014457\n",
            "Accuracy: 0.78\n",
            "\n",
            "\"\"\"\"\"\"\"\"\"\"\"\"\"\"\"\"\"\"\"\"\"\"\"\"\"\"\"\"\"\"\"\"\"\"\n"
          ]
        }
      ]
    },
    {
      "cell_type": "code",
      "source": [
        "fig, ax = plt.subplots(2, 2, figsize=(10, 8))\n",
        "\n",
        "# Flatten the 2D array for easier iteration\n",
        "axes = ax.flatten()\n",
        "\n",
        "for i, (key, value) in enumerate(split_y_test.items()):\n",
        "    plot_acc(axes[i], test_split_pred_history[i], value, str(ratio[i]), \"Inductive\")\n",
        "\n",
        "\n",
        "plt.tight_layout()\n",
        "plt.show()\n",
        "\n"
      ],
      "metadata": {
        "colab": {
          "base_uri": "https://localhost:8080/",
          "height": 801
        },
        "outputId": "6cfa7569-60e8-42ee-942f-03a31c59d01a",
        "id": "7fgXAxsBcDsk"
      },
      "execution_count": null,
      "outputs": [
        {
          "output_type": "display_data",
          "data": {
            "text/plain": [
              "<Figure size 1000x800 with 8 Axes>"
            ],
            "image/png": "[encoded data removed]"
          },
          "metadata": {}
        }
      ]
    },
    {
      "cell_type": "markdown",
      "source": [
        "## Transductive"
      ],
      "metadata": {
        "id": "IfcrT3qUvswB"
      }
    },
    {
      "cell_type": "markdown",
      "source": [
        "### Train"
      ],
      "metadata": {
        "id": "BogN4IOJvsYD"
      }
    },
    {
      "cell_type": "code",
      "source": [
        "transd_splitting[0][0]"
      ],
      "metadata": {
        "colab": {
          "base_uri": "https://localhost:8080/"
        },
        "id": "QtAft2SgnIQQ",
        "outputId": "8d25d2ed-39df-4343-c61d-a670832767fa"
      },
      "execution_count": null,
      "outputs": [
        {
          "output_type": "execute_result",
          "data": {
            "text/plain": [
              "Data(x=[2708, 1433], y=[2708], train_mask=[2708], val_mask=[2708], test_mask=[2708], val_pos_edge_index=[2, 1055], test_pos_edge_index=[2, 1055], train_pos_edge_index=[2, 6336], train_neg_adj_mask=[2708, 2708], val_neg_edge_index=[2, 1055], test_neg_edge_index=[2, 1055])"
            ]
          },
          "metadata": {},
          "execution_count": 90
        }
      ]
    },
    {
      "cell_type": "code",
      "source": [
        "import collections\n",
        "import os\n",
        "\n",
        "# Create a directory to save models if it doesn't exist\n",
        "os.makedirs('saved_models_transd', exist_ok=True)\n",
        "\n",
        "# Set seed\n",
        "set_seed(42)\n",
        "criterion = nn.BCEWithLogitsLoss()\n",
        "\n",
        "# Create dictionaries to store results for each split\n",
        "split_loss_history_transd = collections.defaultdict(list)\n",
        "split_pred_history_transd = collections.defaultdict(list)\n",
        "split_final_losses_transd = []\n",
        "\n",
        "trained_models_sd = {}\n",
        "\n",
        "\n",
        "for k, v in transd_splitting.items():\n",
        "    cora = v[0]\n",
        "    print(cora)\n",
        "    epochs = 1000\n",
        "\n",
        "    # initialize model\n",
        "    model = Net(cora_train.x.shape[1], 128, 64, is_batch=True).to(device)\n",
        "\n",
        "    # Time to train!\n",
        "\n",
        "    loss, pred,loss_history = train(epoch =epochs,\n",
        "                criterion = criterion,\n",
        "                data = cora,\n",
        "                model = model,\n",
        "                lr = 0.01,\n",
        "                wd = 5e-4,\n",
        "                device = device,\n",
        "                transductive = True)\n",
        "\n",
        "\n",
        "    # Store results for this split\n",
        "    split_loss_history_transd[k] = loss_history\n",
        "    split_pred_history_transd[k] = pred\n",
        "    split_final_losses_transd.append(loss)\n",
        "\n",
        "    # Save the model\n",
        "    model_path = f'saved_models_transd/model_split_sd_{k}.pt'\n",
        "    torch.save({\n",
        "        'model_state_dict': model.state_dict(),\n",
        "        'final_loss': final_loss,\n",
        "        'epoch_losses': epoch_losses,\n",
        "        'split_key': k\n",
        "    }, model_path)\n",
        "\n",
        "\n",
        "    trained_models_sd[k] = model\n",
        "\n",
        "\n",
        "\n",
        "\n",
        "\n",
        "\n",
        "\n"
      ],
      "metadata": {
        "colab": {
          "base_uri": "https://localhost:8080/"
        },
        "outputId": "81c4de83-0c85-4a8f-ffd5-234fd96337c0",
        "id": "ubmAaM2HZvlT"
      },
      "execution_count": null,
      "outputs": [
        {
          "output_type": "stream",
          "name": "stdout",
          "text": [
            "Data(x=[2708, 1433], y=[2708], train_mask=[2708], val_mask=[2708], test_mask=[2708], val_pos_edge_index=[2, 1055], test_pos_edge_index=[2, 1055], train_pos_edge_index=[2, 6336], train_neg_adj_mask=[2708, 2708], val_neg_edge_index=[2, 1055], test_neg_edge_index=[2, 1055])\n"
          ]
        },
        {
          "output_type": "stream",
          "name": "stderr",
          "text": [
            "  0%|          | 1/1000 [00:00<16:32,  1.01it/s]"
          ]
        },
        {
          "output_type": "stream",
          "name": "stdout",
          "text": [
            "The current loss is 0.9388\n"
          ]
        },
        {
          "output_type": "stream",
          "name": "stderr",
          "text": [
            " 10%|█         | 102/1000 [00:23<02:47,  5.36it/s]"
          ]
        },
        {
          "output_type": "stream",
          "name": "stdout",
          "text": [
            "The current loss is 0.5022\n"
          ]
        },
        {
          "output_type": "stream",
          "name": "stderr",
          "text": [
            " 20%|██        | 201/1000 [00:45<03:31,  3.78it/s]"
          ]
        },
        {
          "output_type": "stream",
          "name": "stdout",
          "text": [
            "The current loss is 0.4964\n"
          ]
        },
        {
          "output_type": "stream",
          "name": "stderr",
          "text": [
            " 30%|███       | 302/1000 [01:08<02:12,  5.26it/s]"
          ]
        },
        {
          "output_type": "stream",
          "name": "stdout",
          "text": [
            "The current loss is 0.4978\n"
          ]
        },
        {
          "output_type": "stream",
          "name": "stderr",
          "text": [
            " 40%|████      | 402/1000 [01:31<02:08,  4.67it/s]"
          ]
        },
        {
          "output_type": "stream",
          "name": "stdout",
          "text": [
            "The current loss is 0.4905\n"
          ]
        },
        {
          "output_type": "stream",
          "name": "stderr",
          "text": [
            " 50%|█████     | 501/1000 [01:58<02:16,  3.66it/s]"
          ]
        },
        {
          "output_type": "stream",
          "name": "stdout",
          "text": [
            "The current loss is 0.4942\n"
          ]
        },
        {
          "output_type": "stream",
          "name": "stderr",
          "text": [
            " 60%|██████    | 601/1000 [02:21<01:14,  5.34it/s]"
          ]
        },
        {
          "output_type": "stream",
          "name": "stdout",
          "text": [
            "The current loss is 0.4938\n"
          ]
        },
        {
          "output_type": "stream",
          "name": "stderr",
          "text": [
            " 70%|███████   | 702/1000 [02:46<00:57,  5.21it/s]"
          ]
        },
        {
          "output_type": "stream",
          "name": "stdout",
          "text": [
            "The current loss is 0.4911\n"
          ]
        },
        {
          "output_type": "stream",
          "name": "stderr",
          "text": [
            " 80%|████████  | 801/1000 [03:16<01:18,  2.52it/s]"
          ]
        },
        {
          "output_type": "stream",
          "name": "stdout",
          "text": [
            "The current loss is 0.4920\n"
          ]
        },
        {
          "output_type": "stream",
          "name": "stderr",
          "text": [
            " 90%|█████████ | 901/1000 [03:50<00:59,  1.66it/s]"
          ]
        },
        {
          "output_type": "stream",
          "name": "stdout",
          "text": [
            "The current loss is 0.4945\n"
          ]
        },
        {
          "output_type": "stream",
          "name": "stderr",
          "text": [
            "100%|██████████| 1000/1000 [04:22<00:00,  3.81it/s]\n"
          ]
        },
        {
          "output_type": "stream",
          "name": "stdout",
          "text": [
            "Data(x=[2708, 1433], y=[2708], train_mask=[2708], val_mask=[2708], test_mask=[2708], val_pos_edge_index=[2, 1055], test_pos_edge_index=[2, 1055], train_pos_edge_index=[2, 6336], train_neg_adj_mask=[2708, 2708], val_neg_edge_index=[2, 1055], test_neg_edge_index=[2, 1055])\n"
          ]
        },
        {
          "output_type": "stream",
          "name": "stderr",
          "text": [
            "  0%|          | 2/1000 [00:00<03:50,  4.33it/s]"
          ]
        },
        {
          "output_type": "stream",
          "name": "stdout",
          "text": [
            "The current loss is 1.1230\n"
          ]
        },
        {
          "output_type": "stream",
          "name": "stderr",
          "text": [
            " 10%|█         | 102/1000 [00:31<02:47,  5.35it/s]"
          ]
        },
        {
          "output_type": "stream",
          "name": "stdout",
          "text": [
            "The current loss is 0.5237\n"
          ]
        },
        {
          "output_type": "stream",
          "name": "stderr",
          "text": [
            " 20%|██        | 201/1000 [00:58<03:01,  4.39it/s]"
          ]
        },
        {
          "output_type": "stream",
          "name": "stdout",
          "text": [
            "The current loss is 0.5264\n"
          ]
        },
        {
          "output_type": "stream",
          "name": "stderr",
          "text": [
            " 30%|███       | 302/1000 [01:19<02:06,  5.50it/s]"
          ]
        },
        {
          "output_type": "stream",
          "name": "stdout",
          "text": [
            "The current loss is 0.5165\n"
          ]
        },
        {
          "output_type": "stream",
          "name": "stderr",
          "text": [
            " 40%|████      | 402/1000 [01:46<01:56,  5.12it/s]"
          ]
        },
        {
          "output_type": "stream",
          "name": "stdout",
          "text": [
            "The current loss is 0.5123\n"
          ]
        },
        {
          "output_type": "stream",
          "name": "stderr",
          "text": [
            " 50%|█████     | 502/1000 [02:16<01:33,  5.31it/s]"
          ]
        },
        {
          "output_type": "stream",
          "name": "stdout",
          "text": [
            "The current loss is 0.5151\n"
          ]
        },
        {
          "output_type": "stream",
          "name": "stderr",
          "text": [
            " 60%|██████    | 601/1000 [02:37<01:49,  3.66it/s]"
          ]
        },
        {
          "output_type": "stream",
          "name": "stdout",
          "text": [
            "The current loss is 0.5136\n"
          ]
        },
        {
          "output_type": "stream",
          "name": "stderr",
          "text": [
            " 70%|███████   | 702/1000 [02:57<00:55,  5.33it/s]"
          ]
        },
        {
          "output_type": "stream",
          "name": "stdout",
          "text": [
            "The current loss is 0.5129\n"
          ]
        },
        {
          "output_type": "stream",
          "name": "stderr",
          "text": [
            " 80%|████████  | 801/1000 [03:18<00:54,  3.67it/s]"
          ]
        },
        {
          "output_type": "stream",
          "name": "stdout",
          "text": [
            "The current loss is 0.5105\n"
          ]
        },
        {
          "output_type": "stream",
          "name": "stderr",
          "text": [
            " 90%|█████████ | 902/1000 [03:39<00:18,  5.22it/s]"
          ]
        },
        {
          "output_type": "stream",
          "name": "stdout",
          "text": [
            "The current loss is 0.5140\n"
          ]
        },
        {
          "output_type": "stream",
          "name": "stderr",
          "text": [
            "100%|██████████| 1000/1000 [04:00<00:00,  4.16it/s]\n"
          ]
        },
        {
          "output_type": "stream",
          "name": "stdout",
          "text": [
            "Data(x=[2708, 1433], y=[2708], train_mask=[2708], val_mask=[2708], test_mask=[2708], val_pos_edge_index=[2, 1055], test_pos_edge_index=[2, 1055], train_pos_edge_index=[2, 6336], train_neg_adj_mask=[2708, 2708], val_neg_edge_index=[2, 1055], test_neg_edge_index=[2, 1055])\n"
          ]
        },
        {
          "output_type": "stream",
          "name": "stderr",
          "text": [
            "  0%|          | 1/1000 [00:00<05:30,  3.02it/s]"
          ]
        },
        {
          "output_type": "stream",
          "name": "stdout",
          "text": [
            "The current loss is 0.9786\n"
          ]
        },
        {
          "output_type": "stream",
          "name": "stderr",
          "text": [
            " 10%|█         | 102/1000 [00:22<02:48,  5.33it/s]"
          ]
        },
        {
          "output_type": "stream",
          "name": "stdout",
          "text": [
            "The current loss is 0.4886\n"
          ]
        },
        {
          "output_type": "stream",
          "name": "stderr",
          "text": [
            " 20%|██        | 202/1000 [00:44<03:24,  3.91it/s]"
          ]
        },
        {
          "output_type": "stream",
          "name": "stdout",
          "text": [
            "The current loss is 0.4752\n"
          ]
        },
        {
          "output_type": "stream",
          "name": "stderr",
          "text": [
            " 30%|███       | 302/1000 [01:05<02:12,  5.25it/s]"
          ]
        },
        {
          "output_type": "stream",
          "name": "stdout",
          "text": [
            "The current loss is 0.4757\n"
          ]
        },
        {
          "output_type": "stream",
          "name": "stderr",
          "text": [
            " 40%|████      | 402/1000 [01:26<02:01,  4.91it/s]"
          ]
        },
        {
          "output_type": "stream",
          "name": "stdout",
          "text": [
            "The current loss is 0.4762\n"
          ]
        },
        {
          "output_type": "stream",
          "name": "stderr",
          "text": [
            " 50%|█████     | 501/1000 [01:47<01:32,  5.41it/s]"
          ]
        },
        {
          "output_type": "stream",
          "name": "stdout",
          "text": [
            "The current loss is 0.4730\n"
          ]
        },
        {
          "output_type": "stream",
          "name": "stderr",
          "text": [
            " 60%|██████    | 602/1000 [02:09<01:16,  5.19it/s]"
          ]
        },
        {
          "output_type": "stream",
          "name": "stdout",
          "text": [
            "The current loss is 0.4682\n"
          ]
        },
        {
          "output_type": "stream",
          "name": "stderr",
          "text": [
            " 70%|███████   | 702/1000 [02:29<00:59,  4.99it/s]"
          ]
        },
        {
          "output_type": "stream",
          "name": "stdout",
          "text": [
            "The current loss is 0.4761\n"
          ]
        },
        {
          "output_type": "stream",
          "name": "stderr",
          "text": [
            " 80%|████████  | 802/1000 [02:51<00:38,  5.21it/s]"
          ]
        },
        {
          "output_type": "stream",
          "name": "stdout",
          "text": [
            "The current loss is 0.4707\n"
          ]
        },
        {
          "output_type": "stream",
          "name": "stderr",
          "text": [
            " 90%|█████████ | 902/1000 [03:11<00:19,  5.13it/s]"
          ]
        },
        {
          "output_type": "stream",
          "name": "stdout",
          "text": [
            "The current loss is 0.4674\n"
          ]
        },
        {
          "output_type": "stream",
          "name": "stderr",
          "text": [
            "100%|██████████| 1000/1000 [03:33<00:00,  4.69it/s]\n"
          ]
        },
        {
          "output_type": "stream",
          "name": "stdout",
          "text": [
            "Data(x=[2708, 1433], y=[2708], train_mask=[2708], val_mask=[2708], test_mask=[2708], val_pos_edge_index=[2, 1055], test_pos_edge_index=[2, 1055], train_pos_edge_index=[2, 6336], train_neg_adj_mask=[2708, 2708], val_neg_edge_index=[2, 1055], test_neg_edge_index=[2, 1055])\n"
          ]
        },
        {
          "output_type": "stream",
          "name": "stderr",
          "text": [
            "  0%|          | 2/1000 [00:00<03:22,  4.92it/s]"
          ]
        },
        {
          "output_type": "stream",
          "name": "stdout",
          "text": [
            "The current loss is 1.0511\n"
          ]
        },
        {
          "output_type": "stream",
          "name": "stderr",
          "text": [
            " 10%|█         | 102/1000 [00:20<02:45,  5.42it/s]"
          ]
        },
        {
          "output_type": "stream",
          "name": "stdout",
          "text": [
            "The current loss is 0.5125\n"
          ]
        },
        {
          "output_type": "stream",
          "name": "stderr",
          "text": [
            " 20%|██        | 202/1000 [00:43<02:32,  5.24it/s]"
          ]
        },
        {
          "output_type": "stream",
          "name": "stdout",
          "text": [
            "The current loss is 0.4939\n"
          ]
        },
        {
          "output_type": "stream",
          "name": "stderr",
          "text": [
            " 30%|███       | 302/1000 [01:03<02:12,  5.27it/s]"
          ]
        },
        {
          "output_type": "stream",
          "name": "stdout",
          "text": [
            "The current loss is 0.5021\n"
          ]
        },
        {
          "output_type": "stream",
          "name": "stderr",
          "text": [
            " 40%|████      | 402/1000 [01:25<01:53,  5.27it/s]"
          ]
        },
        {
          "output_type": "stream",
          "name": "stdout",
          "text": [
            "The current loss is 0.5013\n"
          ]
        },
        {
          "output_type": "stream",
          "name": "stderr",
          "text": [
            " 50%|█████     | 502/1000 [01:45<01:32,  5.41it/s]"
          ]
        },
        {
          "output_type": "stream",
          "name": "stdout",
          "text": [
            "The current loss is 0.4982\n"
          ]
        },
        {
          "output_type": "stream",
          "name": "stderr",
          "text": [
            " 60%|██████    | 601/1000 [02:06<01:17,  5.13it/s]"
          ]
        },
        {
          "output_type": "stream",
          "name": "stdout",
          "text": [
            "The current loss is 0.4967\n"
          ]
        },
        {
          "output_type": "stream",
          "name": "stderr",
          "text": [
            " 70%|███████   | 702/1000 [02:27<00:55,  5.33it/s]"
          ]
        },
        {
          "output_type": "stream",
          "name": "stdout",
          "text": [
            "The current loss is 0.4940\n"
          ]
        },
        {
          "output_type": "stream",
          "name": "stderr",
          "text": [
            " 80%|████████  | 802/1000 [02:48<00:37,  5.22it/s]"
          ]
        },
        {
          "output_type": "stream",
          "name": "stdout",
          "text": [
            "The current loss is 0.4958\n"
          ]
        },
        {
          "output_type": "stream",
          "name": "stderr",
          "text": [
            " 90%|█████████ | 902/1000 [03:08<00:18,  5.29it/s]"
          ]
        },
        {
          "output_type": "stream",
          "name": "stdout",
          "text": [
            "The current loss is 0.4967\n"
          ]
        },
        {
          "output_type": "stream",
          "name": "stderr",
          "text": [
            "100%|██████████| 1000/1000 [03:30<00:00,  4.75it/s]\n"
          ]
        }
      ]
    },
    {
      "cell_type": "code",
      "source": [
        "fig, ax = plt.subplots(2, 2, figsize=(10, 8))\n",
        "\n",
        "# Flatten the 2D array for easier iteration\n",
        "axes = ax.flatten()\n",
        "\n",
        "for i, (key, value) in enumerate(split_loss_history_transd.items()):\n",
        "    plot_loss(axes[i], value, 999, \"GIN\", str(ratio[i]) )\n",
        "\n",
        "# Adjust layout\n",
        "plt.tight_layout()\n",
        "plt.show()"
      ],
      "metadata": {
        "colab": {
          "base_uri": "https://localhost:8080/",
          "height": 807
        },
        "outputId": "cf3bb5a0-2f60-4e07-be6d-3c4026d5ac89",
        "id": "nSegwc8iZvlU"
      },
      "execution_count": null,
      "outputs": [
        {
          "output_type": "display_data",
          "data": {
            "text/plain": [
              "<Figure size 1000x800 with 4 Axes>"
            ],
            "image/png": "[encoded data removed]"
          },
          "metadata": {}
        }
      ]
    },
    {
      "cell_type": "markdown",
      "source": [
        "### Test\n"
      ],
      "metadata": {
        "id": "Ng5H1D_LazR8"
      }
    },
    {
      "cell_type": "code",
      "source": [
        "import collections\n",
        "\n",
        "\n",
        "\n",
        "# Set seed\n",
        "set_seed(42)\n",
        "\n",
        "\n",
        "# Create dictionaries to store results for each split\n",
        "split_y_test_transd = collections.defaultdict(list)\n",
        "test_split_pred_history_transd = collections.defaultdict(list)\n",
        "split_score_transd = []\n",
        "split_acc_transd = []\n",
        "\n",
        "\n",
        "\n",
        "for k, v in transd_splitting.items():\n",
        "    cora = v[0]\n",
        "\n",
        "    # initialize model\n",
        "    model = load_model(k,\"saved_models_transd\", \"model_split_sd\" )\n",
        "    score, pred, y_test = test(cora, model, device, transductive=True)\n",
        "    accuracy = (pred == y_test).mean().item()\n",
        "\n",
        "    # Store results for this split\n",
        "    split_y_test_transd[k] = y_test\n",
        "    test_split_pred_history_transd[k] = pred\n",
        "    split_score_transd.append(score)\n",
        "    split_acc_transd.append(accuracy)"
      ],
      "metadata": {
        "colab": {
          "base_uri": "https://localhost:8080/"
        },
        "id": "e0XzIz--nsMT",
        "outputId": "ceb10aec-0d9d-470e-94be-5cb16c68b97d"
      },
      "execution_count": null,
      "outputs": [
        {
          "output_type": "stream",
          "name": "stderr",
          "text": [
            "<ipython-input-92-890d32a2887e>:3: FutureWarning: You are using `torch.load` with `weights_only=False` (the current default value), which uses the default pickle module implicitly. It is possible to construct malicious pickle data which will execute arbitrary code during unpickling (See https://github.com/pytorch/pytorch/blob/main/SECURITY.md#untrusted-models for more details). In a future release, the default value for `weights_only` will be flipped to `True`. This limits the functions that could be executed during unpickling. Arbitrary objects will no longer be allowed to be loaded via this mode unless they are explicitly allowlisted by the user via `torch.serialization.add_safe_globals`. We recommend you start setting `weights_only=True` for any use case where you don't have full control of the loaded file. Please open an issue on GitHub for any issues related to this experimental feature.\n",
            "  checkpoint = torch.load(f'{path}/{app}_{split_key}.pt')\n",
            "<ipython-input-92-890d32a2887e>:3: FutureWarning: You are using `torch.load` with `weights_only=False` (the current default value), which uses the default pickle module implicitly. It is possible to construct malicious pickle data which will execute arbitrary code during unpickling (See https://github.com/pytorch/pytorch/blob/main/SECURITY.md#untrusted-models for more details). In a future release, the default value for `weights_only` will be flipped to `True`. This limits the functions that could be executed during unpickling. Arbitrary objects will no longer be allowed to be loaded via this mode unless they are explicitly allowlisted by the user via `torch.serialization.add_safe_globals`. We recommend you start setting `weights_only=True` for any use case where you don't have full control of the loaded file. Please open an issue on GitHub for any issues related to this experimental feature.\n",
            "  checkpoint = torch.load(f'{path}/{app}_{split_key}.pt')\n",
            "<ipython-input-92-890d32a2887e>:3: FutureWarning: You are using `torch.load` with `weights_only=False` (the current default value), which uses the default pickle module implicitly. It is possible to construct malicious pickle data which will execute arbitrary code during unpickling (See https://github.com/pytorch/pytorch/blob/main/SECURITY.md#untrusted-models for more details). In a future release, the default value for `weights_only` will be flipped to `True`. This limits the functions that could be executed during unpickling. Arbitrary objects will no longer be allowed to be loaded via this mode unless they are explicitly allowlisted by the user via `torch.serialization.add_safe_globals`. We recommend you start setting `weights_only=True` for any use case where you don't have full control of the loaded file. Please open an issue on GitHub for any issues related to this experimental feature.\n",
            "  checkpoint = torch.load(f'{path}/{app}_{split_key}.pt')\n",
            "<ipython-input-92-890d32a2887e>:3: FutureWarning: You are using `torch.load` with `weights_only=False` (the current default value), which uses the default pickle module implicitly. It is possible to construct malicious pickle data which will execute arbitrary code during unpickling (See https://github.com/pytorch/pytorch/blob/main/SECURITY.md#untrusted-models for more details). In a future release, the default value for `weights_only` will be flipped to `True`. This limits the functions that could be executed during unpickling. Arbitrary objects will no longer be allowed to be loaded via this mode unless they are explicitly allowlisted by the user via `torch.serialization.add_safe_globals`. We recommend you start setting `weights_only=True` for any use case where you don't have full control of the loaded file. Please open an issue on GitHub for any issues related to this experimental feature.\n",
            "  checkpoint = torch.load(f'{path}/{app}_{split_key}.pt')\n"
          ]
        }
      ]
    },
    {
      "cell_type": "code",
      "source": [
        "for i, v in enumerate(split_acc_transd):\n",
        "  print('\"\"\"\"\"\"\"\"\"\"\"\"\"\"\"\"\"\"\"\"\"\"\"\"\"\"\"\"\"\"\"\"\"\"')\n",
        "  print(f\"Area under the roc curve: {split_score_transd[i]}\")\n",
        "  print(f\"Accuracy: {v:.2f}\")\n",
        "  print('\\n\"\"\"\"\"\"\"\"\"\"\"\"\"\"\"\"\"\"\"\"\"\"\"\"\"\"\"\"\"\"\"\"\"\"')\n"
      ],
      "metadata": {
        "colab": {
          "base_uri": "https://localhost:8080/"
        },
        "outputId": "dff30749-a6de-4716-aa24-69eed122e4be",
        "id": "ZoF2489rohJc"
      },
      "execution_count": null,
      "outputs": [
        {
          "output_type": "stream",
          "name": "stdout",
          "text": [
            "\"\"\"\"\"\"\"\"\"\"\"\"\"\"\"\"\"\"\"\"\"\"\"\"\"\"\"\"\"\"\"\"\"\"\n",
            "Area under the roc curve: 0.5393508681296466\n",
            "Accuracy: 0.54\n",
            "\n",
            "\"\"\"\"\"\"\"\"\"\"\"\"\"\"\"\"\"\"\"\"\"\"\"\"\"\"\"\"\"\"\"\"\"\"\n",
            "\"\"\"\"\"\"\"\"\"\"\"\"\"\"\"\"\"\"\"\"\"\"\"\"\"\"\"\"\"\"\"\"\"\"\n",
            "Area under the roc curve: 0.5203782484670156\n",
            "Accuracy: 0.52\n",
            "\n",
            "\"\"\"\"\"\"\"\"\"\"\"\"\"\"\"\"\"\"\"\"\"\"\"\"\"\"\"\"\"\"\"\"\"\"\n",
            "\"\"\"\"\"\"\"\"\"\"\"\"\"\"\"\"\"\"\"\"\"\"\"\"\"\"\"\"\"\"\"\"\"\"\n",
            "Area under the roc curve: 0.5622488263965321\n",
            "Accuracy: 0.43\n",
            "\n",
            "\"\"\"\"\"\"\"\"\"\"\"\"\"\"\"\"\"\"\"\"\"\"\"\"\"\"\"\"\"\"\"\"\"\"\n",
            "\"\"\"\"\"\"\"\"\"\"\"\"\"\"\"\"\"\"\"\"\"\"\"\"\"\"\"\"\"\"\"\"\"\"\n",
            "Area under the roc curve: 0.5894364457222435\n",
            "Accuracy: 0.59\n",
            "\n",
            "\"\"\"\"\"\"\"\"\"\"\"\"\"\"\"\"\"\"\"\"\"\"\"\"\"\"\"\"\"\"\"\"\"\"\n"
          ]
        }
      ]
    },
    {
      "cell_type": "code",
      "source": [
        "fig, ax = plt.subplots(2, 2, figsize=(10, 8))\n",
        "\n",
        "# Flatten the 2D array for easier iteration\n",
        "axes = ax.flatten()\n",
        "\n",
        "for i, (key, value) in enumerate(split_y_test_transd.items()):\n",
        "    plot_acc(axes[i], test_split_pred_history_transd[i], value, str(ratio[i]), \"Transductive\")\n",
        "\n",
        "# Adjust layout\n",
        "plt.tight_layout()\n",
        "plt.show()\n",
        "\n"
      ],
      "metadata": {
        "colab": {
          "base_uri": "https://localhost:8080/",
          "height": 795
        },
        "outputId": "8ce797f6-72ee-41f0-b323-bdb29a4751c0",
        "id": "0wo3fq3uohJr"
      },
      "execution_count": null,
      "outputs": [
        {
          "output_type": "display_data",
          "data": {
            "text/plain": [
              "<Figure size 1000x800 with 8 Axes>"
            ],
            "image/png": "[encoded data removed]"
          },
          "metadata": {}
        }
      ]
    }
  ]
}